{
 "cells": [
  {
   "cell_type": "markdown",
   "metadata": {},
   "source": [
    "# Example: Explore ion binding data"
   ]
  },
  {
   "cell_type": "markdown",
   "metadata": {},
   "source": [
    "We want to analyze the binding behavior of sodium ions with respect to a number residues on our protein. A simple, first-order approach is to get the minimum distance between the residues. We want to get this efficiently for every frame and into a form that we can easily use for data exploration."
   ]
  },
  {
   "cell_type": "markdown",
   "metadata": {},
   "source": [
    "We have written a module with a class that will efficiently get the data elements we need to start answering our question. We'll import it, as well as MDAnalysis, so we can feed it an MDAnalysis.Universe corresponding to our simulation data."
   ]
  },
  {
   "cell_type": "code",
   "execution_count": 1,
   "metadata": {
    "collapsed": false
   },
   "outputs": [],
   "source": [
    "import MDAnalysis as md\n",
    "from MDAnalysisTests.datafiles import GRO, XTC\n",
    "import binding"
   ]
  },
  {
   "cell_type": "markdown",
   "metadata": {},
   "source": [
    "We'll use an example system from the MDAnalysisTests datafiles."
   ]
  },
  {
   "cell_type": "code",
   "execution_count": 2,
   "metadata": {
    "collapsed": false
   },
   "outputs": [],
   "source": [
    "u = md.Universe(GRO, XTC)"
   ]
  },
  {
   "cell_type": "code",
   "execution_count": 3,
   "metadata": {
    "collapsed": false
   },
   "outputs": [
    {
     "data": {
      "text/plain": [
       "10"
      ]
     },
     "execution_count": 3,
     "metadata": {},
     "output_type": "execute_result"
    }
   ],
   "source": [
    "u.trajectory.numframes"
   ]
  },
  {
   "cell_type": "markdown",
   "metadata": {},
   "source": [
    "The trajectory is rather short, so this will be quick."
   ]
  },
  {
   "cell_type": "code",
   "execution_count": 4,
   "metadata": {
    "collapsed": false
   },
   "outputs": [],
   "source": [
    "# first we feed the analysis class the information it wants\n",
    "b = binding.Binding(u, resids=[107, 123], ion='NA+')"
   ]
  },
  {
   "cell_type": "code",
   "execution_count": 5,
   "metadata": {
    "collapsed": false
   },
   "outputs": [
    {
     "name": "stderr",
     "output_type": "stream",
     "text": [
      "/usr/lib/python2.7/site-packages/tables/path.py:100: NaturalNameWarning: object name is not a valid Python identifier: '123'; it does not match the pattern ``^[a-zA-Z_][a-zA-Z0-9_]*$``; you will not be able to use natural naming to access this object; using ``getattr()`` will still work, though\n",
      "  NaturalNameWarning)\n",
      "/usr/lib/python2.7/site-packages/tables/path.py:100: NaturalNameWarning: object name is not a valid Python identifier: '107'; it does not match the pattern ``^[a-zA-Z_][a-zA-Z0-9_]*$``; you will not be able to use natural naming to access this object; using ``getattr()`` will still work, though\n",
      "  NaturalNameWarning)\n"
     ]
    },
    {
     "name": "stdout",
     "output_type": "stream",
     "text": [
      "\r",
      "Analyzing frame 1/10, time 0.0 ps \r",
      "Analyzing frame 2/10, time 100.000007629 ps \r",
      "Analyzing frame 3/10, time 200.000015259 ps \r",
      "Analyzing frame 4/10, time 300.0 ps \r",
      "Analyzing frame 5/10, time 400.000030518 ps \r",
      "Analyzing frame 6/10, time 500.000030518 ps \r",
      "Analyzing frame 7/10, time 600.0 ps \r",
      "Analyzing frame 8/10, time 700.000061035 ps \r",
      "Analyzing frame 9/10, time 800.000061035 ps\n"
     ]
    }
   ],
   "source": [
    "# then we run it!\n",
    "b.run()"
   ]
  },
  {
   "cell_type": "markdown",
   "metadata": {},
   "source": [
    "Our data is now stored in an HDF5 file, a fileformat that is optimized especially for tabular data like ours. This is generally better than text files (CSV, JSON, XVG) in terms of read/write times and file size, and it also allows on-the-fly compression, which can reduce these further. HDF5 also allows out-of-core querying of data, which means subsets of a dataset that is many times larger than a machine's memory can conveniently be analyzed. The benefits are many."
   ]
  },
  {
   "cell_type": "markdown",
   "metadata": {},
   "source": [
    "## Accessing HDF5 data"
   ]
  },
  {
   "cell_type": "markdown",
   "metadata": {},
   "source": [
    "We wrote our data as pandas DataFrames using the HDFStore object in pandas. We can use the same to read it back."
   ]
  },
  {
   "cell_type": "code",
   "execution_count": 6,
   "metadata": {
    "collapsed": true
   },
   "outputs": [],
   "source": [
    "import pandas"
   ]
  },
  {
   "cell_type": "code",
   "execution_count": 7,
   "metadata": {
    "collapsed": false
   },
   "outputs": [],
   "source": [
    "f = pandas.HDFStore('iondata.h5', 'r')"
   ]
  },
  {
   "cell_type": "code",
   "execution_count": 8,
   "metadata": {
    "collapsed": false
   },
   "outputs": [
    {
     "data": {
      "text/plain": [
       "<class 'pandas.io.pytables.HDFStore'>\n",
       "File path: iondata.h5\n",
       "/107            frame_table  (typ->appendable,nrows->9,ncols->8,indexers->[index],dc->[dist1,ion1,dist2,ion2,dist3,ion3,dist4,ion4])\n",
       "/123            frame_table  (typ->appendable,nrows->9,ncols->8,indexers->[index],dc->[dist1,ion1,dist2,ion2,dist3,ion3,dist4,ion4])"
      ]
     },
     "execution_count": 8,
     "metadata": {},
     "output_type": "execute_result"
    }
   ],
   "source": [
    "f"
   ]
  },
  {
   "cell_type": "markdown",
   "metadata": {},
   "source": [
    "HDF5 files can contain multiple datasets, and they can have an internal structure like a filesystem. Our analysis class saved the data for each residue as separate tables, and we can access them separately."
   ]
  },
  {
   "cell_type": "code",
   "execution_count": 9,
   "metadata": {
    "collapsed": false
   },
   "outputs": [
    {
     "data": {
      "text/html": [
       "<div style=\"max-height:1000px;max-width:1500px;overflow:auto;\">\n",
       "<table border=\"1\" class=\"dataframe\">\n",
       "  <thead>\n",
       "    <tr style=\"text-align: right;\">\n",
       "      <th></th>\n",
       "      <th>dist1</th>\n",
       "      <th>ion1</th>\n",
       "      <th>dist2</th>\n",
       "      <th>ion2</th>\n",
       "      <th>dist3</th>\n",
       "      <th>ion3</th>\n",
       "      <th>dist4</th>\n",
       "      <th>ion4</th>\n",
       "    </tr>\n",
       "    <tr>\n",
       "      <th>time</th>\n",
       "      <th></th>\n",
       "      <th></th>\n",
       "      <th></th>\n",
       "      <th></th>\n",
       "      <th></th>\n",
       "      <th></th>\n",
       "      <th></th>\n",
       "      <th></th>\n",
       "    </tr>\n",
       "  </thead>\n",
       "  <tbody>\n",
       "    <tr>\n",
       "      <th>0.000000</th>\n",
       "      <td>15.066098</td>\n",
       "      <td>47679</td>\n",
       "      <td>19.219854</td>\n",
       "      <td>47680</td>\n",
       "      <td>26.714713</td>\n",
       "      <td>47677</td>\n",
       "      <td>50.098661</td>\n",
       "      <td>47678</td>\n",
       "    </tr>\n",
       "    <tr>\n",
       "      <th>100.000008</th>\n",
       "      <td>15.826400</td>\n",
       "      <td>47679</td>\n",
       "      <td>31.996546</td>\n",
       "      <td>47677</td>\n",
       "      <td>56.059958</td>\n",
       "      <td>47678</td>\n",
       "      <td>60.527775</td>\n",
       "      <td>47680</td>\n",
       "    </tr>\n",
       "    <tr>\n",
       "      <th>200.000015</th>\n",
       "      <td>17.555090</td>\n",
       "      <td>47679</td>\n",
       "      <td>46.930643</td>\n",
       "      <td>47680</td>\n",
       "      <td>51.383418</td>\n",
       "      <td>47678</td>\n",
       "      <td>57.654267</td>\n",
       "      <td>47677</td>\n",
       "    </tr>\n",
       "    <tr>\n",
       "      <th>300.000000</th>\n",
       "      <td>8.951816</td>\n",
       "      <td>47679</td>\n",
       "      <td>31.798067</td>\n",
       "      <td>47677</td>\n",
       "      <td>44.086889</td>\n",
       "      <td>47680</td>\n",
       "      <td>54.578458</td>\n",
       "      <td>47678</td>\n",
       "    </tr>\n",
       "    <tr>\n",
       "      <th>400.000031</th>\n",
       "      <td>12.269272</td>\n",
       "      <td>47679</td>\n",
       "      <td>45.491886</td>\n",
       "      <td>47680</td>\n",
       "      <td>54.340629</td>\n",
       "      <td>47678</td>\n",
       "      <td>54.709148</td>\n",
       "      <td>47677</td>\n",
       "    </tr>\n",
       "    <tr>\n",
       "      <th>500.000031</th>\n",
       "      <td>19.118078</td>\n",
       "      <td>47679</td>\n",
       "      <td>42.535654</td>\n",
       "      <td>47680</td>\n",
       "      <td>44.204339</td>\n",
       "      <td>47678</td>\n",
       "      <td>67.778096</td>\n",
       "      <td>47677</td>\n",
       "    </tr>\n",
       "    <tr>\n",
       "      <th>600.000000</th>\n",
       "      <td>14.667817</td>\n",
       "      <td>47679</td>\n",
       "      <td>35.299042</td>\n",
       "      <td>47680</td>\n",
       "      <td>49.970065</td>\n",
       "      <td>47678</td>\n",
       "      <td>57.201385</td>\n",
       "      <td>47677</td>\n",
       "    </tr>\n",
       "    <tr>\n",
       "      <th>700.000061</th>\n",
       "      <td>22.473081</td>\n",
       "      <td>47679</td>\n",
       "      <td>33.302190</td>\n",
       "      <td>47680</td>\n",
       "      <td>57.235334</td>\n",
       "      <td>47677</td>\n",
       "      <td>69.811178</td>\n",
       "      <td>47678</td>\n",
       "    </tr>\n",
       "    <tr>\n",
       "      <th>800.000061</th>\n",
       "      <td>21.190881</td>\n",
       "      <td>47679</td>\n",
       "      <td>36.234801</td>\n",
       "      <td>47680</td>\n",
       "      <td>38.298401</td>\n",
       "      <td>47677</td>\n",
       "      <td>65.976435</td>\n",
       "      <td>47678</td>\n",
       "    </tr>\n",
       "  </tbody>\n",
       "</table>\n",
       "</div>"
      ],
      "text/plain": [
       "                dist1   ion1      dist2   ion2      dist3   ion3      dist4  \\\n",
       "time                                                                          \n",
       "0.000000    15.066098  47679  19.219854  47680  26.714713  47677  50.098661   \n",
       "100.000008  15.826400  47679  31.996546  47677  56.059958  47678  60.527775   \n",
       "200.000015  17.555090  47679  46.930643  47680  51.383418  47678  57.654267   \n",
       "300.000000   8.951816  47679  31.798067  47677  44.086889  47680  54.578458   \n",
       "400.000031  12.269272  47679  45.491886  47680  54.340629  47678  54.709148   \n",
       "500.000031  19.118078  47679  42.535654  47680  44.204339  47678  67.778096   \n",
       "600.000000  14.667817  47679  35.299042  47680  49.970065  47678  57.201385   \n",
       "700.000061  22.473081  47679  33.302190  47680  57.235334  47677  69.811178   \n",
       "800.000061  21.190881  47679  36.234801  47680  38.298401  47677  65.976435   \n",
       "\n",
       "             ion4  \n",
       "time               \n",
       "0.000000    47678  \n",
       "100.000008  47680  \n",
       "200.000015  47677  \n",
       "300.000000  47678  \n",
       "400.000031  47677  \n",
       "500.000031  47677  \n",
       "600.000000  47677  \n",
       "700.000061  47678  \n",
       "800.000061  47678  "
      ]
     },
     "execution_count": 9,
     "metadata": {},
     "output_type": "execute_result"
    }
   ],
   "source": [
    "f['107']"
   ]
  },
  {
   "cell_type": "code",
   "execution_count": 10,
   "metadata": {
    "collapsed": false
   },
   "outputs": [
    {
     "data": {
      "text/html": [
       "<div style=\"max-height:1000px;max-width:1500px;overflow:auto;\">\n",
       "<table border=\"1\" class=\"dataframe\">\n",
       "  <thead>\n",
       "    <tr style=\"text-align: right;\">\n",
       "      <th></th>\n",
       "      <th>dist1</th>\n",
       "      <th>ion1</th>\n",
       "      <th>dist2</th>\n",
       "      <th>ion2</th>\n",
       "      <th>dist3</th>\n",
       "      <th>ion3</th>\n",
       "      <th>dist4</th>\n",
       "      <th>ion4</th>\n",
       "    </tr>\n",
       "    <tr>\n",
       "      <th>time</th>\n",
       "      <th></th>\n",
       "      <th></th>\n",
       "      <th></th>\n",
       "      <th></th>\n",
       "      <th></th>\n",
       "      <th></th>\n",
       "      <th></th>\n",
       "      <th></th>\n",
       "    </tr>\n",
       "  </thead>\n",
       "  <tbody>\n",
       "    <tr>\n",
       "      <th>0.000000</th>\n",
       "      <td>22.074248</td>\n",
       "      <td>47677</td>\n",
       "      <td>29.620570</td>\n",
       "      <td>47680</td>\n",
       "      <td>36.947619</td>\n",
       "      <td>47679</td>\n",
       "      <td>47.725534</td>\n",
       "      <td>47678</td>\n",
       "    </tr>\n",
       "    <tr>\n",
       "      <th>100.000008</th>\n",
       "      <td>26.478021</td>\n",
       "      <td>47677</td>\n",
       "      <td>38.400472</td>\n",
       "      <td>47679</td>\n",
       "      <td>52.077026</td>\n",
       "      <td>47678</td>\n",
       "      <td>79.535246</td>\n",
       "      <td>47680</td>\n",
       "    </tr>\n",
       "    <tr>\n",
       "      <th>200.000015</th>\n",
       "      <td>39.782146</td>\n",
       "      <td>47679</td>\n",
       "      <td>49.120996</td>\n",
       "      <td>47677</td>\n",
       "      <td>67.598039</td>\n",
       "      <td>47680</td>\n",
       "      <td>73.043726</td>\n",
       "      <td>47678</td>\n",
       "    </tr>\n",
       "    <tr>\n",
       "      <th>300.000000</th>\n",
       "      <td>17.265255</td>\n",
       "      <td>47677</td>\n",
       "      <td>33.435300</td>\n",
       "      <td>47679</td>\n",
       "      <td>62.951470</td>\n",
       "      <td>47680</td>\n",
       "      <td>76.225206</td>\n",
       "      <td>47678</td>\n",
       "    </tr>\n",
       "    <tr>\n",
       "      <th>400.000031</th>\n",
       "      <td>36.577757</td>\n",
       "      <td>47679</td>\n",
       "      <td>45.294870</td>\n",
       "      <td>47677</td>\n",
       "      <td>65.207431</td>\n",
       "      <td>47680</td>\n",
       "      <td>77.449930</td>\n",
       "      <td>47678</td>\n",
       "    </tr>\n",
       "    <tr>\n",
       "      <th>500.000031</th>\n",
       "      <td>37.115365</td>\n",
       "      <td>47678</td>\n",
       "      <td>39.873178</td>\n",
       "      <td>47679</td>\n",
       "      <td>57.555616</td>\n",
       "      <td>47680</td>\n",
       "      <td>84.092972</td>\n",
       "      <td>47677</td>\n",
       "    </tr>\n",
       "    <tr>\n",
       "      <th>600.000000</th>\n",
       "      <td>34.894438</td>\n",
       "      <td>47679</td>\n",
       "      <td>48.372478</td>\n",
       "      <td>47677</td>\n",
       "      <td>52.610892</td>\n",
       "      <td>47680</td>\n",
       "      <td>72.716770</td>\n",
       "      <td>47678</td>\n",
       "    </tr>\n",
       "    <tr>\n",
       "      <th>700.000061</th>\n",
       "      <td>45.321686</td>\n",
       "      <td>47679</td>\n",
       "      <td>49.498554</td>\n",
       "      <td>47677</td>\n",
       "      <td>51.005083</td>\n",
       "      <td>47680</td>\n",
       "      <td>89.045049</td>\n",
       "      <td>47678</td>\n",
       "    </tr>\n",
       "    <tr>\n",
       "      <th>800.000061</th>\n",
       "      <td>44.671225</td>\n",
       "      <td>47679</td>\n",
       "      <td>49.036387</td>\n",
       "      <td>47680</td>\n",
       "      <td>56.056482</td>\n",
       "      <td>47677</td>\n",
       "      <td>82.712491</td>\n",
       "      <td>47678</td>\n",
       "    </tr>\n",
       "  </tbody>\n",
       "</table>\n",
       "</div>"
      ],
      "text/plain": [
       "                dist1   ion1      dist2   ion2      dist3   ion3      dist4  \\\n",
       "time                                                                          \n",
       "0.000000    22.074248  47677  29.620570  47680  36.947619  47679  47.725534   \n",
       "100.000008  26.478021  47677  38.400472  47679  52.077026  47678  79.535246   \n",
       "200.000015  39.782146  47679  49.120996  47677  67.598039  47680  73.043726   \n",
       "300.000000  17.265255  47677  33.435300  47679  62.951470  47680  76.225206   \n",
       "400.000031  36.577757  47679  45.294870  47677  65.207431  47680  77.449930   \n",
       "500.000031  37.115365  47678  39.873178  47679  57.555616  47680  84.092972   \n",
       "600.000000  34.894438  47679  48.372478  47677  52.610892  47680  72.716770   \n",
       "700.000061  45.321686  47679  49.498554  47677  51.005083  47680  89.045049   \n",
       "800.000061  44.671225  47679  49.036387  47680  56.056482  47677  82.712491   \n",
       "\n",
       "             ion4  \n",
       "time               \n",
       "0.000000    47678  \n",
       "100.000008  47680  \n",
       "200.000015  47678  \n",
       "300.000000  47678  \n",
       "400.000031  47678  \n",
       "500.000031  47677  \n",
       "600.000000  47678  \n",
       "700.000061  47678  \n",
       "800.000061  47678  "
      ]
     },
     "execution_count": 10,
     "metadata": {},
     "output_type": "execute_result"
    }
   ],
   "source": [
    "f['123']"
   ]
  },
  {
   "cell_type": "markdown",
   "metadata": {},
   "source": [
    "These are returned as pandas DataFrames, just as we stored them. In this example the DataFrames are rather small, but HDF5 files can store terabytes of data just as efficiently, so our analysis code can scale up just fine. Even though each DataFrame is small enough to fit in memory, we can still try a query!"
   ]
  },
  {
   "cell_type": "code",
   "execution_count": 11,
   "metadata": {
    "collapsed": false
   },
   "outputs": [
    {
     "data": {
      "text/html": [
       "<div style=\"max-height:1000px;max-width:1500px;overflow:auto;\">\n",
       "<table border=\"1\" class=\"dataframe\">\n",
       "  <thead>\n",
       "    <tr style=\"text-align: right;\">\n",
       "      <th></th>\n",
       "      <th>dist1</th>\n",
       "      <th>ion1</th>\n",
       "      <th>dist2</th>\n",
       "      <th>ion2</th>\n",
       "      <th>dist3</th>\n",
       "      <th>ion3</th>\n",
       "      <th>dist4</th>\n",
       "      <th>ion4</th>\n",
       "    </tr>\n",
       "    <tr>\n",
       "      <th>time</th>\n",
       "      <th></th>\n",
       "      <th></th>\n",
       "      <th></th>\n",
       "      <th></th>\n",
       "      <th></th>\n",
       "      <th></th>\n",
       "      <th></th>\n",
       "      <th></th>\n",
       "    </tr>\n",
       "  </thead>\n",
       "  <tbody>\n",
       "    <tr>\n",
       "      <th>0.000000</th>\n",
       "      <td>22.074248</td>\n",
       "      <td>47677</td>\n",
       "      <td>29.620570</td>\n",
       "      <td>47680</td>\n",
       "      <td>36.947619</td>\n",
       "      <td>47679</td>\n",
       "      <td>47.725534</td>\n",
       "      <td>47678</td>\n",
       "    </tr>\n",
       "    <tr>\n",
       "      <th>100.000008</th>\n",
       "      <td>26.478021</td>\n",
       "      <td>47677</td>\n",
       "      <td>38.400472</td>\n",
       "      <td>47679</td>\n",
       "      <td>52.077026</td>\n",
       "      <td>47678</td>\n",
       "      <td>79.535246</td>\n",
       "      <td>47680</td>\n",
       "    </tr>\n",
       "    <tr>\n",
       "      <th>300.000000</th>\n",
       "      <td>17.265255</td>\n",
       "      <td>47677</td>\n",
       "      <td>33.435300</td>\n",
       "      <td>47679</td>\n",
       "      <td>62.951470</td>\n",
       "      <td>47680</td>\n",
       "      <td>76.225206</td>\n",
       "      <td>47678</td>\n",
       "    </tr>\n",
       "  </tbody>\n",
       "</table>\n",
       "</div>"
      ],
      "text/plain": [
       "                dist1   ion1      dist2   ion2      dist3   ion3      dist4  \\\n",
       "time                                                                          \n",
       "0.000000    22.074248  47677  29.620570  47680  36.947619  47679  47.725534   \n",
       "100.000008  26.478021  47677  38.400472  47679  52.077026  47678  79.535246   \n",
       "300.000000  17.265255  47677  33.435300  47679  62.951470  47680  76.225206   \n",
       "\n",
       "             ion4  \n",
       "time               \n",
       "0.000000    47678  \n",
       "100.000008  47680  \n",
       "300.000000  47678  "
      ]
     },
     "execution_count": 11,
     "metadata": {},
     "output_type": "execute_result"
    }
   ],
   "source": [
    "f.select('123', where='dist1 < 30')"
   ]
  },
  {
   "cell_type": "markdown",
   "metadata": {},
   "source": [
    "We were able to get back only those rows for which ``dist1`` < 30. If this were a dataset larger than our computer's available memory, this query would still work, since the amount of memory needed is only as large as the query's result! This is a valuable feature, and it is *fast*."
   ]
  },
  {
   "cell_type": "markdown",
   "metadata": {},
   "source": [
    "The HDFStore object also allows selection of only particular columns..."
   ]
  },
  {
   "cell_type": "code",
   "execution_count": 12,
   "metadata": {
    "collapsed": false
   },
   "outputs": [
    {
     "data": {
      "text/html": [
       "<div style=\"max-height:1000px;max-width:1500px;overflow:auto;\">\n",
       "<table border=\"1\" class=\"dataframe\">\n",
       "  <thead>\n",
       "    <tr style=\"text-align: right;\">\n",
       "      <th></th>\n",
       "      <th>dist2</th>\n",
       "      <th>ion3</th>\n",
       "    </tr>\n",
       "    <tr>\n",
       "      <th>time</th>\n",
       "      <th></th>\n",
       "      <th></th>\n",
       "    </tr>\n",
       "  </thead>\n",
       "  <tbody>\n",
       "    <tr>\n",
       "      <th>0.000000</th>\n",
       "      <td>19.219854</td>\n",
       "      <td>47677</td>\n",
       "    </tr>\n",
       "    <tr>\n",
       "      <th>100.000008</th>\n",
       "      <td>31.996546</td>\n",
       "      <td>47678</td>\n",
       "    </tr>\n",
       "    <tr>\n",
       "      <th>200.000015</th>\n",
       "      <td>46.930643</td>\n",
       "      <td>47678</td>\n",
       "    </tr>\n",
       "    <tr>\n",
       "      <th>300.000000</th>\n",
       "      <td>31.798067</td>\n",
       "      <td>47680</td>\n",
       "    </tr>\n",
       "    <tr>\n",
       "      <th>400.000031</th>\n",
       "      <td>45.491886</td>\n",
       "      <td>47678</td>\n",
       "    </tr>\n",
       "    <tr>\n",
       "      <th>500.000031</th>\n",
       "      <td>42.535654</td>\n",
       "      <td>47678</td>\n",
       "    </tr>\n",
       "    <tr>\n",
       "      <th>600.000000</th>\n",
       "      <td>35.299042</td>\n",
       "      <td>47678</td>\n",
       "    </tr>\n",
       "    <tr>\n",
       "      <th>700.000061</th>\n",
       "      <td>33.302190</td>\n",
       "      <td>47677</td>\n",
       "    </tr>\n",
       "    <tr>\n",
       "      <th>800.000061</th>\n",
       "      <td>36.234801</td>\n",
       "      <td>47677</td>\n",
       "    </tr>\n",
       "  </tbody>\n",
       "</table>\n",
       "</div>"
      ],
      "text/plain": [
       "                dist2   ion3\n",
       "time                        \n",
       "0.000000    19.219854  47677\n",
       "100.000008  31.996546  47678\n",
       "200.000015  46.930643  47678\n",
       "300.000000  31.798067  47680\n",
       "400.000031  45.491886  47678\n",
       "500.000031  42.535654  47678\n",
       "600.000000  35.299042  47678\n",
       "700.000061  33.302190  47677\n",
       "800.000061  36.234801  47677"
      ]
     },
     "execution_count": 12,
     "metadata": {},
     "output_type": "execute_result"
    }
   ],
   "source": [
    "f.select('107', columns=['dist2', 'ion3'])"
   ]
  },
  {
   "cell_type": "markdown",
   "metadata": {},
   "source": [
    "...and these can be combined with queries against other columns."
   ]
  },
  {
   "cell_type": "code",
   "execution_count": 13,
   "metadata": {
    "collapsed": false
   },
   "outputs": [
    {
     "data": {
      "text/html": [
       "<div style=\"max-height:1000px;max-width:1500px;overflow:auto;\">\n",
       "<table border=\"1\" class=\"dataframe\">\n",
       "  <thead>\n",
       "    <tr style=\"text-align: right;\">\n",
       "      <th></th>\n",
       "      <th>dist2</th>\n",
       "      <th>ion3</th>\n",
       "    </tr>\n",
       "    <tr>\n",
       "      <th>time</th>\n",
       "      <th></th>\n",
       "      <th></th>\n",
       "    </tr>\n",
       "  </thead>\n",
       "  <tbody>\n",
       "    <tr>\n",
       "      <th>0.000000</th>\n",
       "      <td>19.219854</td>\n",
       "      <td>47677</td>\n",
       "    </tr>\n",
       "    <tr>\n",
       "      <th>200.000015</th>\n",
       "      <td>46.930643</td>\n",
       "      <td>47678</td>\n",
       "    </tr>\n",
       "  </tbody>\n",
       "</table>\n",
       "</div>"
      ],
      "text/plain": [
       "                dist2   ion3\n",
       "time                        \n",
       "0.000000    19.219854  47677\n",
       "200.000015  46.930643  47678"
      ]
     },
     "execution_count": 13,
     "metadata": {},
     "output_type": "execute_result"
    }
   ],
   "source": [
    "f.select('107', columns=['dist2', 'ion3'], where='dist4 < 60 and dist1 > 15')"
   ]
  },
  {
   "cell_type": "markdown",
   "metadata": {},
   "source": [
    "## Data exploration with pandas"
   ]
  },
  {
   "cell_type": "markdown",
   "metadata": {},
   "source": [
    "Pandas DataFrames provide a convenient data structure for dealing with data, and possibly large amounts of it. A DataFrame is a basically a table, but under the hood, a DataFrame is essentially a dictionary of 1-D numpy arrays It is also more than that: numpy makes DataFrames effecient, but a DataFrame has machinery built in to easily handle columns with missing values. It can also perform SQL-like functionality, such as grouping the contents of a DataFrame by the contents of a particular column (also known as a ``groupby``)."
   ]
  },
  {
   "cell_type": "code",
   "execution_count": 14,
   "metadata": {
    "collapsed": false
   },
   "outputs": [],
   "source": [
    "df = f['123']"
   ]
  },
  {
   "cell_type": "code",
   "execution_count": 15,
   "metadata": {
    "collapsed": true
   },
   "outputs": [],
   "source": [
    "f.close()"
   ]
  },
  {
   "cell_type": "markdown",
   "metadata": {},
   "source": [
    "DataFrames can give convenient summary statistics."
   ]
  },
  {
   "cell_type": "code",
   "execution_count": 16,
   "metadata": {
    "collapsed": false
   },
   "outputs": [
    {
     "data": {
      "text/html": [
       "<div style=\"max-height:1000px;max-width:1500px;overflow:auto;\">\n",
       "<table border=\"1\" class=\"dataframe\">\n",
       "  <thead>\n",
       "    <tr style=\"text-align: right;\">\n",
       "      <th></th>\n",
       "      <th>dist1</th>\n",
       "      <th>ion1</th>\n",
       "      <th>dist2</th>\n",
       "      <th>ion2</th>\n",
       "      <th>dist3</th>\n",
       "      <th>ion3</th>\n",
       "      <th>dist4</th>\n",
       "      <th>ion4</th>\n",
       "    </tr>\n",
       "  </thead>\n",
       "  <tbody>\n",
       "    <tr>\n",
       "      <th>count</th>\n",
       "      <td>9.000000</td>\n",
       "      <td>9.000000</td>\n",
       "      <td>9.000000</td>\n",
       "      <td>9.000000</td>\n",
       "      <td>9.000000</td>\n",
       "      <td>9.000000</td>\n",
       "      <td>9.000000</td>\n",
       "      <td>9.000000</td>\n",
       "    </tr>\n",
       "    <tr>\n",
       "      <th>mean</th>\n",
       "      <td>33.797793</td>\n",
       "      <td>47678.222222</td>\n",
       "      <td>42.516978</td>\n",
       "      <td>47678.333333</td>\n",
       "      <td>55.778851</td>\n",
       "      <td>47679.333333</td>\n",
       "      <td>75.838547</td>\n",
       "      <td>47678.111111</td>\n",
       "    </tr>\n",
       "    <tr>\n",
       "      <th>std</th>\n",
       "      <td>9.817883</td>\n",
       "      <td>0.971825</td>\n",
       "      <td>7.496593</td>\n",
       "      <td>1.322876</td>\n",
       "      <td>9.249428</td>\n",
       "      <td>1.118034</td>\n",
       "      <td>11.800996</td>\n",
       "      <td>0.781736</td>\n",
       "    </tr>\n",
       "    <tr>\n",
       "      <th>min</th>\n",
       "      <td>17.265255</td>\n",
       "      <td>47677.000000</td>\n",
       "      <td>29.620570</td>\n",
       "      <td>47677.000000</td>\n",
       "      <td>36.947619</td>\n",
       "      <td>47677.000000</td>\n",
       "      <td>47.725534</td>\n",
       "      <td>47677.000000</td>\n",
       "    </tr>\n",
       "    <tr>\n",
       "      <th>25%</th>\n",
       "      <td>26.478021</td>\n",
       "      <td>47677.000000</td>\n",
       "      <td>38.400472</td>\n",
       "      <td>47677.000000</td>\n",
       "      <td>52.077026</td>\n",
       "      <td>47679.000000</td>\n",
       "      <td>73.043726</td>\n",
       "      <td>47678.000000</td>\n",
       "    </tr>\n",
       "    <tr>\n",
       "      <th>50%</th>\n",
       "      <td>36.577757</td>\n",
       "      <td>47679.000000</td>\n",
       "      <td>45.294870</td>\n",
       "      <td>47679.000000</td>\n",
       "      <td>56.056482</td>\n",
       "      <td>47680.000000</td>\n",
       "      <td>77.449930</td>\n",
       "      <td>47678.000000</td>\n",
       "    </tr>\n",
       "    <tr>\n",
       "      <th>75%</th>\n",
       "      <td>39.782146</td>\n",
       "      <td>47679.000000</td>\n",
       "      <td>49.036387</td>\n",
       "      <td>47679.000000</td>\n",
       "      <td>62.951470</td>\n",
       "      <td>47680.000000</td>\n",
       "      <td>82.712491</td>\n",
       "      <td>47678.000000</td>\n",
       "    </tr>\n",
       "    <tr>\n",
       "      <th>max</th>\n",
       "      <td>45.321686</td>\n",
       "      <td>47679.000000</td>\n",
       "      <td>49.498554</td>\n",
       "      <td>47680.000000</td>\n",
       "      <td>67.598039</td>\n",
       "      <td>47680.000000</td>\n",
       "      <td>89.045049</td>\n",
       "      <td>47680.000000</td>\n",
       "    </tr>\n",
       "  </tbody>\n",
       "</table>\n",
       "</div>"
      ],
      "text/plain": [
       "           dist1          ion1      dist2          ion2      dist3  \\\n",
       "count   9.000000      9.000000   9.000000      9.000000   9.000000   \n",
       "mean   33.797793  47678.222222  42.516978  47678.333333  55.778851   \n",
       "std     9.817883      0.971825   7.496593      1.322876   9.249428   \n",
       "min    17.265255  47677.000000  29.620570  47677.000000  36.947619   \n",
       "25%    26.478021  47677.000000  38.400472  47677.000000  52.077026   \n",
       "50%    36.577757  47679.000000  45.294870  47679.000000  56.056482   \n",
       "75%    39.782146  47679.000000  49.036387  47679.000000  62.951470   \n",
       "max    45.321686  47679.000000  49.498554  47680.000000  67.598039   \n",
       "\n",
       "               ion3      dist4          ion4  \n",
       "count      9.000000   9.000000      9.000000  \n",
       "mean   47679.333333  75.838547  47678.111111  \n",
       "std        1.118034  11.800996      0.781736  \n",
       "min    47677.000000  47.725534  47677.000000  \n",
       "25%    47679.000000  73.043726  47678.000000  \n",
       "50%    47680.000000  77.449930  47678.000000  \n",
       "75%    47680.000000  82.712491  47678.000000  \n",
       "max    47680.000000  89.045049  47680.000000  "
      ]
     },
     "execution_count": 16,
     "metadata": {},
     "output_type": "execute_result"
    }
   ],
   "source": [
    "df.describe()"
   ]
  },
  {
   "cell_type": "markdown",
   "metadata": {},
   "source": [
    "And we can look at only columns we care about, too."
   ]
  },
  {
   "cell_type": "code",
   "execution_count": 17,
   "metadata": {
    "collapsed": false
   },
   "outputs": [
    {
     "data": {
      "text/html": [
       "<div style=\"max-height:1000px;max-width:1500px;overflow:auto;\">\n",
       "<table border=\"1\" class=\"dataframe\">\n",
       "  <thead>\n",
       "    <tr style=\"text-align: right;\">\n",
       "      <th></th>\n",
       "      <th>dist1</th>\n",
       "      <th>dist2</th>\n",
       "    </tr>\n",
       "    <tr>\n",
       "      <th>time</th>\n",
       "      <th></th>\n",
       "      <th></th>\n",
       "    </tr>\n",
       "  </thead>\n",
       "  <tbody>\n",
       "    <tr>\n",
       "      <th>0.000000</th>\n",
       "      <td>22.074248</td>\n",
       "      <td>29.620570</td>\n",
       "    </tr>\n",
       "    <tr>\n",
       "      <th>100.000008</th>\n",
       "      <td>26.478021</td>\n",
       "      <td>38.400472</td>\n",
       "    </tr>\n",
       "    <tr>\n",
       "      <th>200.000015</th>\n",
       "      <td>39.782146</td>\n",
       "      <td>49.120996</td>\n",
       "    </tr>\n",
       "    <tr>\n",
       "      <th>300.000000</th>\n",
       "      <td>17.265255</td>\n",
       "      <td>33.435300</td>\n",
       "    </tr>\n",
       "    <tr>\n",
       "      <th>400.000031</th>\n",
       "      <td>36.577757</td>\n",
       "      <td>45.294870</td>\n",
       "    </tr>\n",
       "    <tr>\n",
       "      <th>500.000031</th>\n",
       "      <td>37.115365</td>\n",
       "      <td>39.873178</td>\n",
       "    </tr>\n",
       "    <tr>\n",
       "      <th>600.000000</th>\n",
       "      <td>34.894438</td>\n",
       "      <td>48.372478</td>\n",
       "    </tr>\n",
       "    <tr>\n",
       "      <th>700.000061</th>\n",
       "      <td>45.321686</td>\n",
       "      <td>49.498554</td>\n",
       "    </tr>\n",
       "    <tr>\n",
       "      <th>800.000061</th>\n",
       "      <td>44.671225</td>\n",
       "      <td>49.036387</td>\n",
       "    </tr>\n",
       "  </tbody>\n",
       "</table>\n",
       "</div>"
      ],
      "text/plain": [
       "                dist1      dist2\n",
       "time                            \n",
       "0.000000    22.074248  29.620570\n",
       "100.000008  26.478021  38.400472\n",
       "200.000015  39.782146  49.120996\n",
       "300.000000  17.265255  33.435300\n",
       "400.000031  36.577757  45.294870\n",
       "500.000031  37.115365  39.873178\n",
       "600.000000  34.894438  48.372478\n",
       "700.000061  45.321686  49.498554\n",
       "800.000061  44.671225  49.036387"
      ]
     },
     "execution_count": 17,
     "metadata": {},
     "output_type": "execute_result"
    }
   ],
   "source": [
    "df[['dist1', 'dist2']]"
   ]
  },
  {
   "cell_type": "code",
   "execution_count": 18,
   "metadata": {
    "collapsed": false
   },
   "outputs": [
    {
     "data": {
      "text/html": [
       "<div style=\"max-height:1000px;max-width:1500px;overflow:auto;\">\n",
       "<table border=\"1\" class=\"dataframe\">\n",
       "  <thead>\n",
       "    <tr style=\"text-align: right;\">\n",
       "      <th></th>\n",
       "      <th>dist1</th>\n",
       "      <th>dist2</th>\n",
       "    </tr>\n",
       "  </thead>\n",
       "  <tbody>\n",
       "    <tr>\n",
       "      <th>count</th>\n",
       "      <td>9.000000</td>\n",
       "      <td>9.000000</td>\n",
       "    </tr>\n",
       "    <tr>\n",
       "      <th>mean</th>\n",
       "      <td>33.797793</td>\n",
       "      <td>42.516978</td>\n",
       "    </tr>\n",
       "    <tr>\n",
       "      <th>std</th>\n",
       "      <td>9.817883</td>\n",
       "      <td>7.496593</td>\n",
       "    </tr>\n",
       "    <tr>\n",
       "      <th>min</th>\n",
       "      <td>17.265255</td>\n",
       "      <td>29.620570</td>\n",
       "    </tr>\n",
       "    <tr>\n",
       "      <th>25%</th>\n",
       "      <td>26.478021</td>\n",
       "      <td>38.400472</td>\n",
       "    </tr>\n",
       "    <tr>\n",
       "      <th>50%</th>\n",
       "      <td>36.577757</td>\n",
       "      <td>45.294870</td>\n",
       "    </tr>\n",
       "    <tr>\n",
       "      <th>75%</th>\n",
       "      <td>39.782146</td>\n",
       "      <td>49.036387</td>\n",
       "    </tr>\n",
       "    <tr>\n",
       "      <th>max</th>\n",
       "      <td>45.321686</td>\n",
       "      <td>49.498554</td>\n",
       "    </tr>\n",
       "  </tbody>\n",
       "</table>\n",
       "</div>"
      ],
      "text/plain": [
       "           dist1      dist2\n",
       "count   9.000000   9.000000\n",
       "mean   33.797793  42.516978\n",
       "std     9.817883   7.496593\n",
       "min    17.265255  29.620570\n",
       "25%    26.478021  38.400472\n",
       "50%    36.577757  45.294870\n",
       "75%    39.782146  49.036387\n",
       "max    45.321686  49.498554"
      ]
     },
     "execution_count": 18,
     "metadata": {},
     "output_type": "execute_result"
    }
   ],
   "source": [
    "df[['dist1', 'dist2']].describe()"
   ]
  },
  {
   "cell_type": "markdown",
   "metadata": {},
   "source": [
    "DataFrames can be filtered by conditioning on their column values, too."
   ]
  },
  {
   "cell_type": "code",
   "execution_count": 19,
   "metadata": {
    "collapsed": false
   },
   "outputs": [
    {
     "data": {
      "text/html": [
       "<div style=\"max-height:1000px;max-width:1500px;overflow:auto;\">\n",
       "<table border=\"1\" class=\"dataframe\">\n",
       "  <thead>\n",
       "    <tr style=\"text-align: right;\">\n",
       "      <th></th>\n",
       "      <th>dist1</th>\n",
       "      <th>ion1</th>\n",
       "      <th>dist2</th>\n",
       "      <th>ion2</th>\n",
       "      <th>dist3</th>\n",
       "      <th>ion3</th>\n",
       "      <th>dist4</th>\n",
       "      <th>ion4</th>\n",
       "    </tr>\n",
       "    <tr>\n",
       "      <th>time</th>\n",
       "      <th></th>\n",
       "      <th></th>\n",
       "      <th></th>\n",
       "      <th></th>\n",
       "      <th></th>\n",
       "      <th></th>\n",
       "      <th></th>\n",
       "      <th></th>\n",
       "    </tr>\n",
       "  </thead>\n",
       "  <tbody>\n",
       "    <tr>\n",
       "      <th>0.000000</th>\n",
       "      <td>22.074248</td>\n",
       "      <td>47677</td>\n",
       "      <td>29.620570</td>\n",
       "      <td>47680</td>\n",
       "      <td>36.947619</td>\n",
       "      <td>47679</td>\n",
       "      <td>47.725534</td>\n",
       "      <td>47678</td>\n",
       "    </tr>\n",
       "    <tr>\n",
       "      <th>100.000008</th>\n",
       "      <td>26.478021</td>\n",
       "      <td>47677</td>\n",
       "      <td>38.400472</td>\n",
       "      <td>47679</td>\n",
       "      <td>52.077026</td>\n",
       "      <td>47678</td>\n",
       "      <td>79.535246</td>\n",
       "      <td>47680</td>\n",
       "    </tr>\n",
       "    <tr>\n",
       "      <th>300.000000</th>\n",
       "      <td>17.265255</td>\n",
       "      <td>47677</td>\n",
       "      <td>33.435300</td>\n",
       "      <td>47679</td>\n",
       "      <td>62.951470</td>\n",
       "      <td>47680</td>\n",
       "      <td>76.225206</td>\n",
       "      <td>47678</td>\n",
       "    </tr>\n",
       "    <tr>\n",
       "      <th>500.000031</th>\n",
       "      <td>37.115365</td>\n",
       "      <td>47678</td>\n",
       "      <td>39.873178</td>\n",
       "      <td>47679</td>\n",
       "      <td>57.555616</td>\n",
       "      <td>47680</td>\n",
       "      <td>84.092972</td>\n",
       "      <td>47677</td>\n",
       "    </tr>\n",
       "  </tbody>\n",
       "</table>\n",
       "</div>"
      ],
      "text/plain": [
       "                dist1   ion1      dist2   ion2      dist3   ion3      dist4  \\\n",
       "time                                                                          \n",
       "0.000000    22.074248  47677  29.620570  47680  36.947619  47679  47.725534   \n",
       "100.000008  26.478021  47677  38.400472  47679  52.077026  47678  79.535246   \n",
       "300.000000  17.265255  47677  33.435300  47679  62.951470  47680  76.225206   \n",
       "500.000031  37.115365  47678  39.873178  47679  57.555616  47680  84.092972   \n",
       "\n",
       "             ion4  \n",
       "time               \n",
       "0.000000    47678  \n",
       "100.000008  47680  \n",
       "300.000000  47678  \n",
       "500.000031  47677  "
      ]
     },
     "execution_count": 19,
     "metadata": {},
     "output_type": "execute_result"
    }
   ],
   "source": [
    "df[ df['dist2'] < 40 ]"
   ]
  },
  {
   "cell_type": "markdown",
   "metadata": {},
   "source": [
    "And plotting is super convenient."
   ]
  },
  {
   "cell_type": "code",
   "execution_count": 20,
   "metadata": {
    "collapsed": false
   },
   "outputs": [],
   "source": [
    "%matplotlib inline\n",
    "import matplotlib.pyplot as plt\n",
    "plt.style.use('ggplot')"
   ]
  },
  {
   "cell_type": "code",
   "execution_count": 21,
   "metadata": {
    "collapsed": false
   },
   "outputs": [
    {
     "data": {
      "text/plain": [
       "<matplotlib.axes._subplots.AxesSubplot at 0x7fd998d02810>"
      ]
     },
     "execution_count": 21,
     "metadata": {},
     "output_type": "execute_result"
    },
    {
     "data": {
      "image/png": "[encoded data removed]",
      "text/plain": [
       "<matplotlib.figure.Figure at 0x7fd998d02210>"
      ]
     },
     "metadata": {},
     "output_type": "display_data"
    }
   ],
   "source": [
    "df[['dist1', 'dist2', 'dist3', 'dist4']].plot()"
   ]
  },
  {
   "cell_type": "markdown",
   "metadata": {},
   "source": [
    "Even though we don't really see ion binding in this example, what if we wanted to know how many *different* ions were nearest a residue of interest? We could use a ``groupby`` to make this easy."
   ]
  },
  {
   "cell_type": "markdown",
   "metadata": {},
   "source": [
    "We basically want to know how many different unique values there are in column ``ion1``. First, the groupby."
   ]
  },
  {
   "cell_type": "code",
   "execution_count": 22,
   "metadata": {
    "collapsed": false
   },
   "outputs": [],
   "source": [
    "g = df.groupby('ion1')"
   ]
  },
  {
   "cell_type": "code",
   "execution_count": 23,
   "metadata": {
    "collapsed": false
   },
   "outputs": [
    {
     "data": {
      "text/plain": [
       "{47677: [0.0, 100.00000762939453, 300.0],\n",
       " 47678: [500.0000305175781],\n",
       " 47679: [200.00001525878906,\n",
       "  400.0000305175781,\n",
       "  600.0,\n",
       "  700.0000610351562,\n",
       "  800.0000610351562]}"
      ]
     },
     "execution_count": 23,
     "metadata": {},
     "output_type": "execute_result"
    }
   ],
   "source": [
    "g.groups"
   ]
  },
  {
   "cell_type": "markdown",
   "metadata": {},
   "source": [
    "Notice that a groupby makes a dictionary with keys being values in the selected column and the values being a list of the indexes for the rows containing that value. We can DataFrames corresponding to these specific values directly."
   ]
  },
  {
   "cell_type": "code",
   "execution_count": 24,
   "metadata": {
    "collapsed": false
   },
   "outputs": [
    {
     "data": {
      "text/html": [
       "<div style=\"max-height:1000px;max-width:1500px;overflow:auto;\">\n",
       "<table border=\"1\" class=\"dataframe\">\n",
       "  <thead>\n",
       "    <tr style=\"text-align: right;\">\n",
       "      <th></th>\n",
       "      <th>dist1</th>\n",
       "      <th>ion1</th>\n",
       "      <th>dist2</th>\n",
       "      <th>ion2</th>\n",
       "      <th>dist3</th>\n",
       "      <th>ion3</th>\n",
       "      <th>dist4</th>\n",
       "      <th>ion4</th>\n",
       "    </tr>\n",
       "    <tr>\n",
       "      <th>time</th>\n",
       "      <th></th>\n",
       "      <th></th>\n",
       "      <th></th>\n",
       "      <th></th>\n",
       "      <th></th>\n",
       "      <th></th>\n",
       "      <th></th>\n",
       "      <th></th>\n",
       "    </tr>\n",
       "  </thead>\n",
       "  <tbody>\n",
       "    <tr>\n",
       "      <th>0.000000</th>\n",
       "      <td>22.074248</td>\n",
       "      <td>47677</td>\n",
       "      <td>29.620570</td>\n",
       "      <td>47680</td>\n",
       "      <td>36.947619</td>\n",
       "      <td>47679</td>\n",
       "      <td>47.725534</td>\n",
       "      <td>47678</td>\n",
       "    </tr>\n",
       "    <tr>\n",
       "      <th>100.000008</th>\n",
       "      <td>26.478021</td>\n",
       "      <td>47677</td>\n",
       "      <td>38.400472</td>\n",
       "      <td>47679</td>\n",
       "      <td>52.077026</td>\n",
       "      <td>47678</td>\n",
       "      <td>79.535246</td>\n",
       "      <td>47680</td>\n",
       "    </tr>\n",
       "    <tr>\n",
       "      <th>300.000000</th>\n",
       "      <td>17.265255</td>\n",
       "      <td>47677</td>\n",
       "      <td>33.435300</td>\n",
       "      <td>47679</td>\n",
       "      <td>62.951470</td>\n",
       "      <td>47680</td>\n",
       "      <td>76.225206</td>\n",
       "      <td>47678</td>\n",
       "    </tr>\n",
       "  </tbody>\n",
       "</table>\n",
       "</div>"
      ],
      "text/plain": [
       "                dist1   ion1      dist2   ion2      dist3   ion3      dist4  \\\n",
       "time                                                                          \n",
       "0.000000    22.074248  47677  29.620570  47680  36.947619  47679  47.725534   \n",
       "100.000008  26.478021  47677  38.400472  47679  52.077026  47678  79.535246   \n",
       "300.000000  17.265255  47677  33.435300  47679  62.951470  47680  76.225206   \n",
       "\n",
       "             ion4  \n",
       "time               \n",
       "0.000000    47678  \n",
       "100.000008  47680  \n",
       "300.000000  47678  "
      ]
     },
     "execution_count": 24,
     "metadata": {},
     "output_type": "execute_result"
    }
   ],
   "source": [
    "g.get_group(47677)"
   ]
  },
  {
   "cell_type": "markdown",
   "metadata": {},
   "source": [
    "Notice that this is only the rows of our original DataFrame for which ``ion1`` == 47677. We could have gotten this with filtering, but a groupby can do much more. We wanted to know how many different ions were nearest our residue. We see immediately that there are three."
   ]
  },
  {
   "cell_type": "code",
   "execution_count": 25,
   "metadata": {
    "collapsed": false
   },
   "outputs": [
    {
     "data": {
      "text/plain": [
       "[47677, 47678, 47679]"
      ]
     },
     "execution_count": 25,
     "metadata": {},
     "output_type": "execute_result"
    }
   ],
   "source": [
    "g.groups.keys()"
   ]
  },
  {
   "cell_type": "markdown",
   "metadata": {},
   "source": [
    "How many times is each one present?"
   ]
  },
  {
   "cell_type": "code",
   "execution_count": 26,
   "metadata": {
    "collapsed": false
   },
   "outputs": [
    {
     "data": {
      "text/plain": [
       "ion1\n",
       "47677    3\n",
       "47678    1\n",
       "47679    5\n",
       "Name: ion1, dtype: int64"
      ]
     },
     "execution_count": 26,
     "metadata": {},
     "output_type": "execute_result"
    }
   ],
   "source": [
    "g['ion1'].count()"
   ]
  },
  {
   "cell_type": "markdown",
   "metadata": {},
   "source": [
    "We can also groupby multiple columns at once. Say we choose the nearest two ions."
   ]
  },
  {
   "cell_type": "code",
   "execution_count": 27,
   "metadata": {
    "collapsed": false
   },
   "outputs": [],
   "source": [
    "g2 = df.groupby(('ion1', 'ion2'))"
   ]
  },
  {
   "cell_type": "code",
   "execution_count": 28,
   "metadata": {
    "collapsed": false
   },
   "outputs": [
    {
     "data": {
      "text/plain": [
       "{(47677, 47679): [100.00000762939453, 300.0],\n",
       " (47677, 47680): [0.0],\n",
       " (47678, 47679): [500.0000305175781],\n",
       " (47679, 47677): [200.00001525878906,\n",
       "  400.0000305175781,\n",
       "  600.0,\n",
       "  700.0000610351562],\n",
       " (47679, 47680): [800.0000610351562]}"
      ]
     },
     "execution_count": 28,
     "metadata": {},
     "output_type": "execute_result"
    }
   ],
   "source": [
    "g2.groups"
   ]
  },
  {
   "cell_type": "markdown",
   "metadata": {},
   "source": [
    "This groups by each pair of atom indices present. We could go further and group by the nearest three."
   ]
  },
  {
   "cell_type": "code",
   "execution_count": 29,
   "metadata": {
    "collapsed": false
   },
   "outputs": [],
   "source": [
    "g3 = df.groupby(('ion1', 'ion2', 'ion3'))"
   ]
  },
  {
   "cell_type": "code",
   "execution_count": 30,
   "metadata": {
    "collapsed": false
   },
   "outputs": [
    {
     "data": {
      "text/plain": [
       "{(47677, 47679, 47678): [100.00000762939453],\n",
       " (47677, 47679, 47680): [300.0],\n",
       " (47677, 47680, 47679): [0.0],\n",
       " (47678, 47679, 47680): [500.0000305175781],\n",
       " (47679, 47677, 47680): [200.00001525878906,\n",
       "  400.0000305175781,\n",
       "  600.0,\n",
       "  700.0000610351562],\n",
       " (47679, 47680, 47677): [800.0000610351562]}"
      ]
     },
     "execution_count": 30,
     "metadata": {},
     "output_type": "execute_result"
    }
   ],
   "source": [
    "g3.groups"
   ]
  },
  {
   "cell_type": "markdown",
   "metadata": {},
   "source": [
    "Or even all four we collected data for. This gets the indices for every combination of the ions present in the four columns. Of course with such a small dataset, there isn't much useful here, but the same could be applied to a dataset with much better sampling."
   ]
  },
  {
   "cell_type": "code",
   "execution_count": 31,
   "metadata": {
    "collapsed": false
   },
   "outputs": [],
   "source": [
    "g4 = df.groupby(('ion1', 'ion2', 'ion3', 'ion4'))"
   ]
  },
  {
   "cell_type": "code",
   "execution_count": 32,
   "metadata": {
    "collapsed": false
   },
   "outputs": [
    {
     "data": {
      "text/plain": [
       "{(47677, 47679, 47678, 47680): [100.00000762939453],\n",
       " (47677, 47679, 47680, 47678): [300.0],\n",
       " (47677, 47680, 47679, 47678): [0.0],\n",
       " (47678, 47679, 47680, 47677): [500.0000305175781],\n",
       " (47679, 47677, 47680, 47678): [200.00001525878906,\n",
       "  400.0000305175781,\n",
       "  600.0,\n",
       "  700.0000610351562],\n",
       " (47679, 47680, 47677, 47678): [800.0000610351562]}"
      ]
     },
     "execution_count": 32,
     "metadata": {},
     "output_type": "execute_result"
    }
   ],
   "source": [
    "g4.groups"
   ]
  },
  {
   "cell_type": "markdown",
   "metadata": {},
   "source": [
    "A ``groupby`` can also allow for useful plotting. By plotting ``dist1`` using the ``groupby``, we can see visually which binding distances correspond to each ion."
   ]
  },
  {
   "cell_type": "code",
   "execution_count": 33,
   "metadata": {
    "collapsed": false
   },
   "outputs": [
    {
     "data": {
      "text/plain": [
       "ion1\n",
       "47677    Axes(0.125,0.125;0.775x0.775)\n",
       "47678    Axes(0.125,0.125;0.775x0.775)\n",
       "47679    Axes(0.125,0.125;0.775x0.775)\n",
       "Name: dist1, dtype: object"
      ]
     },
     "execution_count": 33,
     "metadata": {},
     "output_type": "execute_result"
    },
    {
     "data": {
      "image/png": "[encoded data removed]",
      "text/plain": [
       "<matplotlib.figure.Figure at 0x7fd998c572d0>"
      ]
     },
     "metadata": {},
     "output_type": "display_data"
    }
   ],
   "source": [
    "g['dist1'].plot(style='s--', legend=True)"
   ]
  },
  {
   "cell_type": "markdown",
   "metadata": {},
   "source": [
    "There's plenty more to pandas, but hopefully this introduction has given you ideas for how to improve aspects of your own workflow. If you found this style of working with molecular dynamics data appealing, I suggest you have a look at MDSynthesis, a python package that makes data storage, retrieval, and exploration easier, especially when that data comes from a diverse set of simulations: http://mdsynthesis.readthedocs.org/"
   ]
  }
 ],
 "metadata": {
  "kernelspec": {
   "display_name": "Python 2",
   "language": "python",
   "name": "python2"
  },
  "language_info": {
   "codemirror_mode": {
    "name": "ipython",
    "version": 2
   },
   "file_extension": ".py",
   "mimetype": "text/x-python",
   "name": "python",
   "nbconvert_exporter": "python",
   "pygments_lexer": "ipython2",
   "version": "2.7.9"
  }
 },
 "nbformat": 4,
 "nbformat_minor": 0
}
